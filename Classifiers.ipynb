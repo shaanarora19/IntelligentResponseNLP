{
 "cells": [
  {
   "cell_type": "code",
   "execution_count": 47,
   "id": "6a00b65d",
   "metadata": {},
   "outputs": [],
   "source": [
    "from sklearn.model_selection import train_test_split\n",
    "from sklearn.ensemble import RandomForestClassifier\n",
    "from sklearn import tree\n",
    "from sklearn.neighbors import KNeighborsClassifier\n",
    "from sklearn.model_selection import StratifiedKFold\n",
    "from sklearn.model_selection import RepeatedStratifiedKFold\n",
    "from sklearn.neighbors import KNeighborsClassifier\n",
    "from sklearn.model_selection import GridSearchCV\n",
    "from sklearn.metrics import classification_report\n",
    "from sklearn.metrics import accuracy_score\n",
    "import pandas as pd\n",
    "import numpy as np\n",
    "from zipfile import ZipFile\n"
   ]
  },
  {
   "cell_type": "code",
   "execution_count": 48,
   "id": "a64e5eff",
   "metadata": {},
   "outputs": [
    {
     "data": {
      "text/html": [
       "<div>\n",
       "<style scoped>\n",
       "    .dataframe tbody tr th:only-of-type {\n",
       "        vertical-align: middle;\n",
       "    }\n",
       "\n",
       "    .dataframe tbody tr th {\n",
       "        vertical-align: top;\n",
       "    }\n",
       "\n",
       "    .dataframe thead th {\n",
       "        text-align: right;\n",
       "    }\n",
       "</style>\n",
       "<table border=\"1\" class=\"dataframe\">\n",
       "  <thead>\n",
       "    <tr style=\"text-align: right;\">\n",
       "      <th></th>\n",
       "      <th>Stars</th>\n",
       "      <th>Review</th>\n",
       "      <th>adjectives</th>\n",
       "      <th>has_great</th>\n",
       "      <th>has_good</th>\n",
       "      <th>has_nice</th>\n",
       "      <th>has_other</th>\n",
       "      <th>has_delicious</th>\n",
       "      <th>has_friendly</th>\n",
       "      <th>has_little</th>\n",
       "      <th>has_amazing</th>\n",
       "      <th>has_new</th>\n",
       "      <th>has_fresh</th>\n",
       "      <th>has_bad</th>\n",
       "      <th>has_first</th>\n",
       "      <th>has_last</th>\n",
       "      <th>has_same</th>\n",
       "      <th>has_few</th>\n",
       "      <th>has_much</th>\n",
       "    </tr>\n",
       "  </thead>\n",
       "  <tbody>\n",
       "    <tr>\n",
       "      <th>0</th>\n",
       "      <td>1</td>\n",
       "      <td>I got 'new' tires from them and within two wee...</td>\n",
       "      <td>['flat', 'local', 'previous', 'new', 'resentfu...</td>\n",
       "      <td>0</td>\n",
       "      <td>0</td>\n",
       "      <td>0</td>\n",
       "      <td>0</td>\n",
       "      <td>0</td>\n",
       "      <td>0</td>\n",
       "      <td>0</td>\n",
       "      <td>0</td>\n",
       "      <td>1</td>\n",
       "      <td>0</td>\n",
       "      <td>0</td>\n",
       "      <td>0</td>\n",
       "      <td>0</td>\n",
       "      <td>0</td>\n",
       "      <td>0</td>\n",
       "      <td>0</td>\n",
       "    </tr>\n",
       "    <tr>\n",
       "      <th>1</th>\n",
       "      <td>1</td>\n",
       "      <td>All I can say is the worst! We were the only 2...</td>\n",
       "      <td>['only', 'electronic', 'fish', 'filthy', 'slim...</td>\n",
       "      <td>0</td>\n",
       "      <td>1</td>\n",
       "      <td>0</td>\n",
       "      <td>0</td>\n",
       "      <td>0</td>\n",
       "      <td>0</td>\n",
       "      <td>0</td>\n",
       "      <td>0</td>\n",
       "      <td>0</td>\n",
       "      <td>0</td>\n",
       "      <td>0</td>\n",
       "      <td>1</td>\n",
       "      <td>1</td>\n",
       "      <td>0</td>\n",
       "      <td>0</td>\n",
       "      <td>0</td>\n",
       "    </tr>\n",
       "    <tr>\n",
       "      <th>2</th>\n",
       "      <td>1</td>\n",
       "      <td>I have been to this restaurant twice and was d...</td>\n",
       "      <td>['first', 'empty', 'rude', 'Ridiculous', 'long...</td>\n",
       "      <td>0</td>\n",
       "      <td>1</td>\n",
       "      <td>0</td>\n",
       "      <td>1</td>\n",
       "      <td>0</td>\n",
       "      <td>0</td>\n",
       "      <td>0</td>\n",
       "      <td>0</td>\n",
       "      <td>0</td>\n",
       "      <td>0</td>\n",
       "      <td>0</td>\n",
       "      <td>1</td>\n",
       "      <td>0</td>\n",
       "      <td>0</td>\n",
       "      <td>0</td>\n",
       "      <td>0</td>\n",
       "    </tr>\n",
       "    <tr>\n",
       "      <th>3</th>\n",
       "      <td>1</td>\n",
       "      <td>Food was NOT GOOD at all! My husband &amp; I ate h...</td>\n",
       "      <td>['first', 'huge', 'much', 'runny/watery', 'muc...</td>\n",
       "      <td>0</td>\n",
       "      <td>0</td>\n",
       "      <td>0</td>\n",
       "      <td>0</td>\n",
       "      <td>0</td>\n",
       "      <td>0</td>\n",
       "      <td>0</td>\n",
       "      <td>0</td>\n",
       "      <td>0</td>\n",
       "      <td>0</td>\n",
       "      <td>1</td>\n",
       "      <td>1</td>\n",
       "      <td>0</td>\n",
       "      <td>0</td>\n",
       "      <td>0</td>\n",
       "      <td>1</td>\n",
       "    </tr>\n",
       "    <tr>\n",
       "      <th>4</th>\n",
       "      <td>3</td>\n",
       "      <td>This is a tiny Starbucks and it locations like...</td>\n",
       "      <td>['tiny', 'good', 'nice', 'central', 'favorite'...</td>\n",
       "      <td>0</td>\n",
       "      <td>1</td>\n",
       "      <td>1</td>\n",
       "      <td>0</td>\n",
       "      <td>0</td>\n",
       "      <td>0</td>\n",
       "      <td>1</td>\n",
       "      <td>0</td>\n",
       "      <td>0</td>\n",
       "      <td>0</td>\n",
       "      <td>1</td>\n",
       "      <td>0</td>\n",
       "      <td>0</td>\n",
       "      <td>0</td>\n",
       "      <td>0</td>\n",
       "      <td>0</td>\n",
       "    </tr>\n",
       "    <tr>\n",
       "      <th>...</th>\n",
       "      <td>...</td>\n",
       "      <td>...</td>\n",
       "      <td>...</td>\n",
       "      <td>...</td>\n",
       "      <td>...</td>\n",
       "      <td>...</td>\n",
       "      <td>...</td>\n",
       "      <td>...</td>\n",
       "      <td>...</td>\n",
       "      <td>...</td>\n",
       "      <td>...</td>\n",
       "      <td>...</td>\n",
       "      <td>...</td>\n",
       "      <td>...</td>\n",
       "      <td>...</td>\n",
       "      <td>...</td>\n",
       "      <td>...</td>\n",
       "      <td>...</td>\n",
       "      <td>...</td>\n",
       "    </tr>\n",
       "    <tr>\n",
       "      <th>33625</th>\n",
       "      <td>1</td>\n",
       "      <td>Not worth the time, much less the price of adm...</td>\n",
       "      <td>['colorful', 'small', 'bitter', '\\\\nThe', 'sev...</td>\n",
       "      <td>0</td>\n",
       "      <td>1</td>\n",
       "      <td>0</td>\n",
       "      <td>0</td>\n",
       "      <td>0</td>\n",
       "      <td>0</td>\n",
       "      <td>0</td>\n",
       "      <td>0</td>\n",
       "      <td>0</td>\n",
       "      <td>0</td>\n",
       "      <td>0</td>\n",
       "      <td>0</td>\n",
       "      <td>0</td>\n",
       "      <td>0</td>\n",
       "      <td>1</td>\n",
       "      <td>1</td>\n",
       "    </tr>\n",
       "    <tr>\n",
       "      <th>33626</th>\n",
       "      <td>1</td>\n",
       "      <td>Just wanted to write a review to chip in with ...</td>\n",
       "      <td>['little', 'worth', 'accurate', 'same', 'cool'...</td>\n",
       "      <td>0</td>\n",
       "      <td>0</td>\n",
       "      <td>0</td>\n",
       "      <td>1</td>\n",
       "      <td>0</td>\n",
       "      <td>0</td>\n",
       "      <td>1</td>\n",
       "      <td>0</td>\n",
       "      <td>0</td>\n",
       "      <td>0</td>\n",
       "      <td>0</td>\n",
       "      <td>0</td>\n",
       "      <td>0</td>\n",
       "      <td>1</td>\n",
       "      <td>0</td>\n",
       "      <td>0</td>\n",
       "    </tr>\n",
       "    <tr>\n",
       "      <th>33627</th>\n",
       "      <td>4</td>\n",
       "      <td>I have been to the other Monks locations so I ...</td>\n",
       "      <td>['other', 'disappointed', 'different', 'fish',...</td>\n",
       "      <td>1</td>\n",
       "      <td>1</td>\n",
       "      <td>0</td>\n",
       "      <td>1</td>\n",
       "      <td>0</td>\n",
       "      <td>0</td>\n",
       "      <td>0</td>\n",
       "      <td>0</td>\n",
       "      <td>0</td>\n",
       "      <td>0</td>\n",
       "      <td>0</td>\n",
       "      <td>0</td>\n",
       "      <td>0</td>\n",
       "      <td>0</td>\n",
       "      <td>0</td>\n",
       "      <td>0</td>\n",
       "    </tr>\n",
       "    <tr>\n",
       "      <th>33628</th>\n",
       "      <td>2</td>\n",
       "      <td>Don't go here.  I know you might want to try i...</td>\n",
       "      <td>['good', 'positive', '..', 'right', 'only', 'f...</td>\n",
       "      <td>0</td>\n",
       "      <td>1</td>\n",
       "      <td>0</td>\n",
       "      <td>0</td>\n",
       "      <td>0</td>\n",
       "      <td>0</td>\n",
       "      <td>0</td>\n",
       "      <td>0</td>\n",
       "      <td>0</td>\n",
       "      <td>0</td>\n",
       "      <td>0</td>\n",
       "      <td>0</td>\n",
       "      <td>0</td>\n",
       "      <td>1</td>\n",
       "      <td>0</td>\n",
       "      <td>0</td>\n",
       "    </tr>\n",
       "    <tr>\n",
       "      <th>33629</th>\n",
       "      <td>1</td>\n",
       "      <td>Buffet was recently open after renovation so m...</td>\n",
       "      <td>['open', 'good', 'wrong', 'same', 'upgrade', '...</td>\n",
       "      <td>0</td>\n",
       "      <td>1</td>\n",
       "      <td>0</td>\n",
       "      <td>0</td>\n",
       "      <td>0</td>\n",
       "      <td>0</td>\n",
       "      <td>0</td>\n",
       "      <td>0</td>\n",
       "      <td>0</td>\n",
       "      <td>1</td>\n",
       "      <td>0</td>\n",
       "      <td>0</td>\n",
       "      <td>0</td>\n",
       "      <td>1</td>\n",
       "      <td>0</td>\n",
       "      <td>0</td>\n",
       "    </tr>\n",
       "  </tbody>\n",
       "</table>\n",
       "<p>33630 rows × 19 columns</p>\n",
       "</div>"
      ],
      "text/plain": [
       "       Stars                                             Review  \\\n",
       "0          1  I got 'new' tires from them and within two wee...   \n",
       "1          1  All I can say is the worst! We were the only 2...   \n",
       "2          1  I have been to this restaurant twice and was d...   \n",
       "3          1  Food was NOT GOOD at all! My husband & I ate h...   \n",
       "4          3  This is a tiny Starbucks and it locations like...   \n",
       "...      ...                                                ...   \n",
       "33625      1  Not worth the time, much less the price of adm...   \n",
       "33626      1  Just wanted to write a review to chip in with ...   \n",
       "33627      4  I have been to the other Monks locations so I ...   \n",
       "33628      2  Don't go here.  I know you might want to try i...   \n",
       "33629      1  Buffet was recently open after renovation so m...   \n",
       "\n",
       "                                              adjectives  has_great  has_good  \\\n",
       "0      ['flat', 'local', 'previous', 'new', 'resentfu...          0         0   \n",
       "1      ['only', 'electronic', 'fish', 'filthy', 'slim...          0         1   \n",
       "2      ['first', 'empty', 'rude', 'Ridiculous', 'long...          0         1   \n",
       "3      ['first', 'huge', 'much', 'runny/watery', 'muc...          0         0   \n",
       "4      ['tiny', 'good', 'nice', 'central', 'favorite'...          0         1   \n",
       "...                                                  ...        ...       ...   \n",
       "33625  ['colorful', 'small', 'bitter', '\\\\nThe', 'sev...          0         1   \n",
       "33626  ['little', 'worth', 'accurate', 'same', 'cool'...          0         0   \n",
       "33627  ['other', 'disappointed', 'different', 'fish',...          1         1   \n",
       "33628  ['good', 'positive', '..', 'right', 'only', 'f...          0         1   \n",
       "33629  ['open', 'good', 'wrong', 'same', 'upgrade', '...          0         1   \n",
       "\n",
       "       has_nice  has_other  has_delicious  has_friendly  has_little  \\\n",
       "0             0          0              0             0           0   \n",
       "1             0          0              0             0           0   \n",
       "2             0          1              0             0           0   \n",
       "3             0          0              0             0           0   \n",
       "4             1          0              0             0           1   \n",
       "...         ...        ...            ...           ...         ...   \n",
       "33625         0          0              0             0           0   \n",
       "33626         0          1              0             0           1   \n",
       "33627         0          1              0             0           0   \n",
       "33628         0          0              0             0           0   \n",
       "33629         0          0              0             0           0   \n",
       "\n",
       "       has_amazing  has_new  has_fresh  has_bad  has_first  has_last  \\\n",
       "0                0        1          0        0          0         0   \n",
       "1                0        0          0        0          1         1   \n",
       "2                0        0          0        0          1         0   \n",
       "3                0        0          0        1          1         0   \n",
       "4                0        0          0        1          0         0   \n",
       "...            ...      ...        ...      ...        ...       ...   \n",
       "33625            0        0          0        0          0         0   \n",
       "33626            0        0          0        0          0         0   \n",
       "33627            0        0          0        0          0         0   \n",
       "33628            0        0          0        0          0         0   \n",
       "33629            0        0          1        0          0         0   \n",
       "\n",
       "       has_same  has_few  has_much  \n",
       "0             0        0         0  \n",
       "1             0        0         0  \n",
       "2             0        0         0  \n",
       "3             0        0         1  \n",
       "4             0        0         0  \n",
       "...         ...      ...       ...  \n",
       "33625         0        1         1  \n",
       "33626         1        0         0  \n",
       "33627         0        0         0  \n",
       "33628         1        0         0  \n",
       "33629         1        0         0  \n",
       "\n",
       "[33630 rows x 19 columns]"
      ]
     },
     "execution_count": 48,
     "metadata": {},
     "output_type": "execute_result"
    }
   ],
   "source": [
    "# get the zip file\n",
    "file = ZipFile('../adjs.zip')\n",
    "\n",
    "# extract the adjs.csv\n",
    "df = pd.read_csv(file.open(\"adjs.csv\"), encoding='latin1')\n",
    "\n",
    "df"
   ]
  },
  {
   "cell_type": "code",
   "execution_count": 49,
   "id": "95710cec",
   "metadata": {},
   "outputs": [],
   "source": [
    "# initialize features\n",
    "X   = df.iloc[:,3:].values\n",
    "y   = df['Stars'].values     \n",
    "\n",
    "y.reshape(-1, 1)\n",
    "\n",
    "X_train, X_test, y_train, y_test = train_test_split(X,              #the input features\n",
    "                                                    y,              #the label\n",
    "                                                    test_size=0.3,  #set aside 30% of the data as the test set\n",
    "                                                    random_state=7 #reproduce the result\n",
    "                                                   )"
   ]
  },
  {
   "cell_type": "code",
   "execution_count": 50,
   "id": "5672cb75",
   "metadata": {},
   "outputs": [
    {
     "data": {
      "text/html": [
       "<style>#sk-container-id-1 {color: black;background-color: white;}#sk-container-id-1 pre{padding: 0;}#sk-container-id-1 div.sk-toggleable {background-color: white;}#sk-container-id-1 label.sk-toggleable__label {cursor: pointer;display: block;width: 100%;margin-bottom: 0;padding: 0.3em;box-sizing: border-box;text-align: center;}#sk-container-id-1 label.sk-toggleable__label-arrow:before {content: \"▸\";float: left;margin-right: 0.25em;color: #696969;}#sk-container-id-1 label.sk-toggleable__label-arrow:hover:before {color: black;}#sk-container-id-1 div.sk-estimator:hover label.sk-toggleable__label-arrow:before {color: black;}#sk-container-id-1 div.sk-toggleable__content {max-height: 0;max-width: 0;overflow: hidden;text-align: left;background-color: #f0f8ff;}#sk-container-id-1 div.sk-toggleable__content pre {margin: 0.2em;color: black;border-radius: 0.25em;background-color: #f0f8ff;}#sk-container-id-1 input.sk-toggleable__control:checked~div.sk-toggleable__content {max-height: 200px;max-width: 100%;overflow: auto;}#sk-container-id-1 input.sk-toggleable__control:checked~label.sk-toggleable__label-arrow:before {content: \"▾\";}#sk-container-id-1 div.sk-estimator input.sk-toggleable__control:checked~label.sk-toggleable__label {background-color: #d4ebff;}#sk-container-id-1 div.sk-label input.sk-toggleable__control:checked~label.sk-toggleable__label {background-color: #d4ebff;}#sk-container-id-1 input.sk-hidden--visually {border: 0;clip: rect(1px 1px 1px 1px);clip: rect(1px, 1px, 1px, 1px);height: 1px;margin: -1px;overflow: hidden;padding: 0;position: absolute;width: 1px;}#sk-container-id-1 div.sk-estimator {font-family: monospace;background-color: #f0f8ff;border: 1px dotted black;border-radius: 0.25em;box-sizing: border-box;margin-bottom: 0.5em;}#sk-container-id-1 div.sk-estimator:hover {background-color: #d4ebff;}#sk-container-id-1 div.sk-parallel-item::after {content: \"\";width: 100%;border-bottom: 1px solid gray;flex-grow: 1;}#sk-container-id-1 div.sk-label:hover label.sk-toggleable__label {background-color: #d4ebff;}#sk-container-id-1 div.sk-serial::before {content: \"\";position: absolute;border-left: 1px solid gray;box-sizing: border-box;top: 0;bottom: 0;left: 50%;z-index: 0;}#sk-container-id-1 div.sk-serial {display: flex;flex-direction: column;align-items: center;background-color: white;padding-right: 0.2em;padding-left: 0.2em;position: relative;}#sk-container-id-1 div.sk-item {position: relative;z-index: 1;}#sk-container-id-1 div.sk-parallel {display: flex;align-items: stretch;justify-content: center;background-color: white;position: relative;}#sk-container-id-1 div.sk-item::before, #sk-container-id-1 div.sk-parallel-item::before {content: \"\";position: absolute;border-left: 1px solid gray;box-sizing: border-box;top: 0;bottom: 0;left: 50%;z-index: -1;}#sk-container-id-1 div.sk-parallel-item {display: flex;flex-direction: column;z-index: 1;position: relative;background-color: white;}#sk-container-id-1 div.sk-parallel-item:first-child::after {align-self: flex-end;width: 50%;}#sk-container-id-1 div.sk-parallel-item:last-child::after {align-self: flex-start;width: 50%;}#sk-container-id-1 div.sk-parallel-item:only-child::after {width: 0;}#sk-container-id-1 div.sk-dashed-wrapped {border: 1px dashed gray;margin: 0 0.4em 0.5em 0.4em;box-sizing: border-box;padding-bottom: 0.4em;background-color: white;}#sk-container-id-1 div.sk-label label {font-family: monospace;font-weight: bold;display: inline-block;line-height: 1.2em;}#sk-container-id-1 div.sk-label-container {text-align: center;}#sk-container-id-1 div.sk-container {/* jupyter's `normalize.less` sets `[hidden] { display: none; }` but bootstrap.min.css set `[hidden] { display: none !important; }` so we also need the `!important` here to be able to override the default hidden behavior on the sphinx rendered scikit-learn.org. See: https://github.com/scikit-learn/scikit-learn/issues/21755 */display: inline-block !important;position: relative;}#sk-container-id-1 div.sk-text-repr-fallback {display: none;}</style><div id=\"sk-container-id-1\" class=\"sk-top-container\"><div class=\"sk-text-repr-fallback\"><pre>RandomForestClassifier(max_depth=3, random_state=7)</pre><b>In a Jupyter environment, please rerun this cell to show the HTML representation or trust the notebook. <br />On GitHub, the HTML representation is unable to render, please try loading this page with nbviewer.org.</b></div><div class=\"sk-container\" hidden><div class=\"sk-item\"><div class=\"sk-estimator sk-toggleable\"><input class=\"sk-toggleable__control sk-hidden--visually\" id=\"sk-estimator-id-1\" type=\"checkbox\" checked><label for=\"sk-estimator-id-1\" class=\"sk-toggleable__label sk-toggleable__label-arrow\">RandomForestClassifier</label><div class=\"sk-toggleable__content\"><pre>RandomForestClassifier(max_depth=3, random_state=7)</pre></div></div></div></div></div>"
      ],
      "text/plain": [
       "RandomForestClassifier(max_depth=3, random_state=7)"
      ]
     },
     "execution_count": 50,
     "metadata": {},
     "output_type": "execute_result"
    }
   ],
   "source": [
    "# initialize Random Forest model and fit\n",
    "rf = RandomForestClassifier(n_estimators=100, random_state=7, max_depth = 3)\n",
    "rf.fit(X_train, y_train)"
   ]
  },
  {
   "cell_type": "code",
   "execution_count": 51,
   "id": "c1e07472",
   "metadata": {},
   "outputs": [],
   "source": [
    "# predict\n",
    "y_pred   = rf.predict(X_test)"
   ]
  },
  {
   "cell_type": "code",
   "execution_count": 52,
   "id": "d8ddcb2a",
   "metadata": {},
   "outputs": [
    {
     "data": {
      "text/plain": [
       "0.3157894736842105"
      ]
     },
     "execution_count": 52,
     "metadata": {},
     "output_type": "execute_result"
    }
   ],
   "source": [
    "# compute accuracy\n",
    "accuracy_score(y_true = y_test, y_pred = y_pred)"
   ]
  },
  {
   "cell_type": "code",
   "execution_count": 53,
   "id": "5dd72606",
   "metadata": {},
   "outputs": [
    {
     "data": {
      "text/html": [
       "<style>#sk-container-id-2 {color: black;background-color: white;}#sk-container-id-2 pre{padding: 0;}#sk-container-id-2 div.sk-toggleable {background-color: white;}#sk-container-id-2 label.sk-toggleable__label {cursor: pointer;display: block;width: 100%;margin-bottom: 0;padding: 0.3em;box-sizing: border-box;text-align: center;}#sk-container-id-2 label.sk-toggleable__label-arrow:before {content: \"▸\";float: left;margin-right: 0.25em;color: #696969;}#sk-container-id-2 label.sk-toggleable__label-arrow:hover:before {color: black;}#sk-container-id-2 div.sk-estimator:hover label.sk-toggleable__label-arrow:before {color: black;}#sk-container-id-2 div.sk-toggleable__content {max-height: 0;max-width: 0;overflow: hidden;text-align: left;background-color: #f0f8ff;}#sk-container-id-2 div.sk-toggleable__content pre {margin: 0.2em;color: black;border-radius: 0.25em;background-color: #f0f8ff;}#sk-container-id-2 input.sk-toggleable__control:checked~div.sk-toggleable__content {max-height: 200px;max-width: 100%;overflow: auto;}#sk-container-id-2 input.sk-toggleable__control:checked~label.sk-toggleable__label-arrow:before {content: \"▾\";}#sk-container-id-2 div.sk-estimator input.sk-toggleable__control:checked~label.sk-toggleable__label {background-color: #d4ebff;}#sk-container-id-2 div.sk-label input.sk-toggleable__control:checked~label.sk-toggleable__label {background-color: #d4ebff;}#sk-container-id-2 input.sk-hidden--visually {border: 0;clip: rect(1px 1px 1px 1px);clip: rect(1px, 1px, 1px, 1px);height: 1px;margin: -1px;overflow: hidden;padding: 0;position: absolute;width: 1px;}#sk-container-id-2 div.sk-estimator {font-family: monospace;background-color: #f0f8ff;border: 1px dotted black;border-radius: 0.25em;box-sizing: border-box;margin-bottom: 0.5em;}#sk-container-id-2 div.sk-estimator:hover {background-color: #d4ebff;}#sk-container-id-2 div.sk-parallel-item::after {content: \"\";width: 100%;border-bottom: 1px solid gray;flex-grow: 1;}#sk-container-id-2 div.sk-label:hover label.sk-toggleable__label {background-color: #d4ebff;}#sk-container-id-2 div.sk-serial::before {content: \"\";position: absolute;border-left: 1px solid gray;box-sizing: border-box;top: 0;bottom: 0;left: 50%;z-index: 0;}#sk-container-id-2 div.sk-serial {display: flex;flex-direction: column;align-items: center;background-color: white;padding-right: 0.2em;padding-left: 0.2em;position: relative;}#sk-container-id-2 div.sk-item {position: relative;z-index: 1;}#sk-container-id-2 div.sk-parallel {display: flex;align-items: stretch;justify-content: center;background-color: white;position: relative;}#sk-container-id-2 div.sk-item::before, #sk-container-id-2 div.sk-parallel-item::before {content: \"\";position: absolute;border-left: 1px solid gray;box-sizing: border-box;top: 0;bottom: 0;left: 50%;z-index: -1;}#sk-container-id-2 div.sk-parallel-item {display: flex;flex-direction: column;z-index: 1;position: relative;background-color: white;}#sk-container-id-2 div.sk-parallel-item:first-child::after {align-self: flex-end;width: 50%;}#sk-container-id-2 div.sk-parallel-item:last-child::after {align-self: flex-start;width: 50%;}#sk-container-id-2 div.sk-parallel-item:only-child::after {width: 0;}#sk-container-id-2 div.sk-dashed-wrapped {border: 1px dashed gray;margin: 0 0.4em 0.5em 0.4em;box-sizing: border-box;padding-bottom: 0.4em;background-color: white;}#sk-container-id-2 div.sk-label label {font-family: monospace;font-weight: bold;display: inline-block;line-height: 1.2em;}#sk-container-id-2 div.sk-label-container {text-align: center;}#sk-container-id-2 div.sk-container {/* jupyter's `normalize.less` sets `[hidden] { display: none; }` but bootstrap.min.css set `[hidden] { display: none !important; }` so we also need the `!important` here to be able to override the default hidden behavior on the sphinx rendered scikit-learn.org. See: https://github.com/scikit-learn/scikit-learn/issues/21755 */display: inline-block !important;position: relative;}#sk-container-id-2 div.sk-text-repr-fallback {display: none;}</style><div id=\"sk-container-id-2\" class=\"sk-top-container\"><div class=\"sk-text-repr-fallback\"><pre>DecisionTreeClassifier(max_depth=3)</pre><b>In a Jupyter environment, please rerun this cell to show the HTML representation or trust the notebook. <br />On GitHub, the HTML representation is unable to render, please try loading this page with nbviewer.org.</b></div><div class=\"sk-container\" hidden><div class=\"sk-item\"><div class=\"sk-estimator sk-toggleable\"><input class=\"sk-toggleable__control sk-hidden--visually\" id=\"sk-estimator-id-2\" type=\"checkbox\" checked><label for=\"sk-estimator-id-2\" class=\"sk-toggleable__label sk-toggleable__label-arrow\">DecisionTreeClassifier</label><div class=\"sk-toggleable__content\"><pre>DecisionTreeClassifier(max_depth=3)</pre></div></div></div></div></div>"
      ],
      "text/plain": [
       "DecisionTreeClassifier(max_depth=3)"
      ]
     },
     "execution_count": 53,
     "metadata": {},
     "output_type": "execute_result"
    }
   ],
   "source": [
    "# initialize Decision Tree model and fit\n",
    "dec_tree_clf = tree.DecisionTreeClassifier(max_depth = 3)\n",
    "dec_tree_clf.fit(X_train, y_train)"
   ]
  },
  {
   "cell_type": "code",
   "execution_count": 54,
   "id": "a212d180",
   "metadata": {},
   "outputs": [],
   "source": [
    "# predict\n",
    "y_pred = dec_tree_clf.predict(X_test);"
   ]
  },
  {
   "cell_type": "code",
   "execution_count": 55,
   "id": "2a81e6b1",
   "metadata": {},
   "outputs": [
    {
     "data": {
      "text/plain": [
       "0.2937853107344633"
      ]
     },
     "execution_count": 55,
     "metadata": {},
     "output_type": "execute_result"
    }
   ],
   "source": [
    "# compute accuracy\n",
    "accuracy_score(y_true = y_test, y_pred = y_pred)"
   ]
  },
  {
   "cell_type": "code",
   "execution_count": 56,
   "id": "5db528f4",
   "metadata": {},
   "outputs": [],
   "source": [
    "# number of neighbors is 10\n",
    "k = 10\n",
    "\n",
    "# initialize a knn_classifier\n",
    "knn_classifier = KNeighborsClassifier(n_neighbors = k)\n",
    "\n",
    "# construction of kfold object\n",
    "kfold = StratifiedKFold(n_splits = 3, shuffle = True, random_state = 1)\n",
    "\n",
    "# allocate an empty array to store predictions in \n",
    "y_pred = np.empty_like(y)\n",
    "\n",
    "for train_idx, test_idx in kfold.split(X, y):\n",
    "    # build arrays which correspond to x, y train /test\n",
    "    x_test = X[test_idx, :]\n",
    "    x_train = X[train_idx, :]\n",
    "    y_true_train = y[train_idx]\n",
    "    \n",
    "\n",
    "\n",
    "    # fit the classifier (use all available data)\n",
    "    knn_classifier.fit(X, y)\n",
    "\n",
    "    # estimate each review's star\n",
    "    y_pred[test_idx] = knn_classifier.predict(x_test)"
   ]
  },
  {
   "cell_type": "code",
   "execution_count": 57,
   "id": "53e36876",
   "metadata": {},
   "outputs": [
    {
     "data": {
      "text/plain": [
       "0.3463574189711567"
      ]
     },
     "execution_count": 57,
     "metadata": {},
     "output_type": "execute_result"
    }
   ],
   "source": [
    "# compute accuracy\n",
    "accuracy_score(y_true = y, y_pred = y_pred)"
   ]
  },
  {
   "cell_type": "markdown",
   "id": "9123a3c4",
   "metadata": {},
   "source": [
    "##### HyperParameter Tuning for KNN"
   ]
  },
  {
   "cell_type": "code",
   "execution_count": 58,
   "id": "b5ff2930",
   "metadata": {},
   "outputs": [],
   "source": [
    "# list hyperparameters that we want to tune.\n",
    "n_neighbors = list(range(1,30))\n",
    "\n",
    "# cross validation method\n",
    "cv = StratifiedKFold(n_splits = 3, shuffle = True, random_state = 1)\n",
    "\n",
    "# Convert to dictionary\n",
    "hyperparameters = dict(n_neighbors = n_neighbors)\n",
    "\n",
    "# Create new KNN object\n",
    "\n",
    "knn_2 = KNeighborsClassifier()\n",
    "\n",
    "# Use GridSearch\n",
    "clf = GridSearchCV(knn_2, hyperparameters, cv = cv, scoring='accuracy')\n"
   ]
  },
  {
   "cell_type": "code",
   "execution_count": 59,
   "id": "930ec675",
   "metadata": {},
   "outputs": [],
   "source": [
    "# fit the model\n",
    "best_models = clf.fit(X,y)"
   ]
  },
  {
   "cell_type": "code",
   "execution_count": 60,
   "id": "51a17d9e",
   "metadata": {},
   "outputs": [
    {
     "data": {
      "text/plain": [
       "{'algorithm': 'auto',\n",
       " 'leaf_size': 30,\n",
       " 'metric': 'minkowski',\n",
       " 'metric_params': None,\n",
       " 'n_jobs': None,\n",
       " 'n_neighbors': 27,\n",
       " 'p': 2,\n",
       " 'weights': 'uniform'}"
      ]
     },
     "execution_count": 60,
     "metadata": {},
     "output_type": "execute_result"
    }
   ],
   "source": [
    "# get the best model parameters\n",
    "best_models.best_estimator_.get_params()"
   ]
  },
  {
   "cell_type": "markdown",
   "id": "db09d2fd",
   "metadata": {},
   "source": [
    "#### Create a new model with the best parameters"
   ]
  },
  {
   "cell_type": "code",
   "execution_count": 70,
   "id": "e115da10",
   "metadata": {},
   "outputs": [],
   "source": [
    "# initialize a knn_classifier\n",
    "knn_classifier = KNeighborsClassifier(algorithm = 'auto', leaf_size = 30, metric = 'minkowski', metric_params = None, \n",
    "                                      n_jobs = None, n_neighbors =  27, p = 2, weights = 'uniform')\n",
    "\n",
    "# construction of kfold object\n",
    "kfold = StratifiedKFold(n_splits = 3, shuffle = True, random_state = 1)\n",
    "\n",
    "# allocate an empty array to store predictions in \n",
    "y_pred = np.empty_like(y)\n",
    "\n",
    "for train_idx, test_idx in kfold.split(X, y):\n",
    "    # build arrays which correspond to x, y train /test\n",
    "    x_test = X[test_idx, :]\n",
    "    x_train = X[train_idx, :]\n",
    "    y_true_train = y[train_idx]\n",
    "    \n",
    "\n",
    "\n",
    "    # fit the classifier (use all available data)\n",
    "    knn_classifier.fit(X, y)\n",
    "\n",
    "    # estimate each review's star\n",
    "    y_pred[test_idx] = knn_classifier.predict(x_test)"
   ]
  },
  {
   "cell_type": "code",
   "execution_count": 71,
   "id": "06fc410f",
   "metadata": {},
   "outputs": [
    {
     "data": {
      "text/plain": [
       "0.35804341361879277"
      ]
     },
     "execution_count": 71,
     "metadata": {},
     "output_type": "execute_result"
    }
   ],
   "source": [
    "# compute accuracy\n",
    "accuracy_score(y_true = y, y_pred = y_pred)"
   ]
  },
  {
   "cell_type": "markdown",
   "id": "74f80aad",
   "metadata": {},
   "source": [
    "##### HyperParameter Tuning for Decision Tree Classifier"
   ]
  },
  {
   "cell_type": "code",
   "execution_count": 72,
   "id": "28db706f",
   "metadata": {},
   "outputs": [],
   "source": [
    "# list hyperparameters that we want to tune.\n",
    "max_depth = list(range(1,30))\n",
    "\n",
    "# cross validation method\n",
    "cv = StratifiedKFold(n_splits = 3, shuffle = True, random_state = 1)\n",
    "\n",
    "# Convert to dictionary\n",
    "hyperparameters = dict(max_depth = max_depth)\n",
    "\n",
    "# Create new Decision Tree object\n",
    "\n",
    "dt_2 = tree.DecisionTreeClassifier()\n",
    "\n",
    "# Use GridSearch\n",
    "clf = GridSearchCV(dt_2, hyperparameters, cv = cv, scoring='accuracy')\n"
   ]
  },
  {
   "cell_type": "code",
   "execution_count": 73,
   "id": "5d9cf276",
   "metadata": {},
   "outputs": [],
   "source": [
    "# fit the model\n",
    "best_models = clf.fit(X,y)"
   ]
  },
  {
   "cell_type": "code",
   "execution_count": 74,
   "id": "9224d4a0",
   "metadata": {},
   "outputs": [
    {
     "data": {
      "text/plain": [
       "{'ccp_alpha': 0.0,\n",
       " 'class_weight': None,\n",
       " 'criterion': 'gini',\n",
       " 'max_depth': 6,\n",
       " 'max_features': None,\n",
       " 'max_leaf_nodes': None,\n",
       " 'min_impurity_decrease': 0.0,\n",
       " 'min_samples_leaf': 1,\n",
       " 'min_samples_split': 2,\n",
       " 'min_weight_fraction_leaf': 0.0,\n",
       " 'random_state': None,\n",
       " 'splitter': 'best'}"
      ]
     },
     "execution_count": 74,
     "metadata": {},
     "output_type": "execute_result"
    }
   ],
   "source": [
    "# get the best model parameters\n",
    "best_models.best_estimator_.get_params()"
   ]
  },
  {
   "cell_type": "code",
   "execution_count": 75,
   "id": "31aee2f4",
   "metadata": {},
   "outputs": [],
   "source": [
    "### Create a new model with the best parameters\n",
    "\n",
    "# initialize a decision tree classifier\n",
    "dt_classifier = tree.DecisionTreeClassifier(ccp_alpha = 0.0, class_weight = None, criterion = 'gini', \n",
    "                                            max_depth = 6, max_features = None, max_leaf_nodes = None, \n",
    "                                            min_impurity_decrease = 0.0, min_samples_leaf = 1, min_samples_split = 2, \n",
    "                                            min_weight_fraction_leaf = 0.0, random_state = None, splitter = 'best')\n",
    "\n",
    "# construction of kfold object\n",
    "kfold = StratifiedKFold(n_splits = 3, shuffle = True, random_state = 1)\n",
    "\n",
    "# allocate an empty array to store predictions in \n",
    "y_pred = np.empty_like(y)\n",
    "\n",
    "for train_idx, test_idx in kfold.split(X, y):\n",
    "    # build arrays which correspond to x, y train /test\n",
    "    x_test = X[test_idx, :]\n",
    "    x_train = X[train_idx, :]\n",
    "    y_true_train = y[train_idx]\n",
    "    \n",
    "\n",
    "\n",
    "    # fit the classifier (use all available data)\n",
    "    dt_classifier.fit(X, y)\n",
    "\n",
    "    # estimate each review's star\n",
    "    y_pred[test_idx] = dt_classifier.predict(x_test)"
   ]
  },
  {
   "cell_type": "code",
   "execution_count": 76,
   "id": "50e0c0e7",
   "metadata": {},
   "outputs": [
    {
     "data": {
      "text/plain": [
       "0.32694023193577165"
      ]
     },
     "execution_count": 76,
     "metadata": {},
     "output_type": "execute_result"
    }
   ],
   "source": [
    "# compute accuracy\n",
    "accuracy_score(y_true = y, y_pred = y_pred)"
   ]
  },
  {
   "cell_type": "markdown",
   "id": "6646a076",
   "metadata": {},
   "source": [
    "##### HyperParameter Tuning for Random Forest Classifier"
   ]
  },
  {
   "cell_type": "code",
   "execution_count": 77,
   "id": "2c0d019f",
   "metadata": {},
   "outputs": [],
   "source": [
    "# list hyperparameters that we want to tune.\n",
    "n_estimators = list(range(10, 150, 10))\n",
    "max_depth = list(range(1,30))\n",
    "\n",
    "# cross validation method\n",
    "cv = StratifiedKFold(n_splits = 3, shuffle = True, random_state = 1)\n",
    "\n",
    "# Convert to dictionary\n",
    "hyperparameters = dict(n_estimators = n_estimators, max_depth = max_depth)\n",
    "\n",
    "# Create new Random Forest Classifier object\n",
    "\n",
    "rf_2 = RandomForestClassifier()\n",
    "\n",
    "# Use GridSearch\n",
    "clf = GridSearchCV(rf_2, hyperparameters, cv = cv, scoring='accuracy')\n"
   ]
  },
  {
   "cell_type": "code",
   "execution_count": 78,
   "id": "233a14f7",
   "metadata": {},
   "outputs": [],
   "source": [
    "# fit the model\n",
    "best_models = clf.fit(X,y)"
   ]
  },
  {
   "cell_type": "code",
   "execution_count": 79,
   "id": "f1fb8faf",
   "metadata": {},
   "outputs": [
    {
     "data": {
      "text/plain": [
       "{'bootstrap': True,\n",
       " 'ccp_alpha': 0.0,\n",
       " 'class_weight': None,\n",
       " 'criterion': 'gini',\n",
       " 'max_depth': 8,\n",
       " 'max_features': 'sqrt',\n",
       " 'max_leaf_nodes': None,\n",
       " 'max_samples': None,\n",
       " 'min_impurity_decrease': 0.0,\n",
       " 'min_samples_leaf': 1,\n",
       " 'min_samples_split': 2,\n",
       " 'min_weight_fraction_leaf': 0.0,\n",
       " 'n_estimators': 110,\n",
       " 'n_jobs': None,\n",
       " 'oob_score': False,\n",
       " 'random_state': None,\n",
       " 'verbose': 0,\n",
       " 'warm_start': False}"
      ]
     },
     "execution_count": 79,
     "metadata": {},
     "output_type": "execute_result"
    }
   ],
   "source": [
    "# get the best model parameters\n",
    "best_models.best_estimator_.get_params()"
   ]
  },
  {
   "cell_type": "code",
   "execution_count": 100,
   "id": "662d85c7",
   "metadata": {},
   "outputs": [],
   "source": [
    "### Create a new model with the best parameters\n",
    "\n",
    "# initialize a random forest classifier\n",
    "rf_classifier = RandomForestClassifier(bootstrap = True, ccp_alpha = 0.0, class_weight = None, criterion = 'gini', \n",
    "                                       max_depth = 8, max_features = 'sqrt', max_leaf_nodes = None, \n",
    "                                       max_samples = None, min_impurity_decrease = 0.0, min_samples_leaf = 1,\n",
    "                                       min_samples_split = 2, min_weight_fraction_leaf = 0.0,\n",
    "                                       n_estimators = 110, n_jobs = None, oob_score = False, random_state = None,\n",
    "                                       verbose = 0, warm_start = False)\n",
    "\n",
    "# construction of kfold object\n",
    "kfold = StratifiedKFold(n_splits = 3, shuffle = True, random_state = 1)\n",
    "\n",
    "# allocate an empty array to store predictions in \n",
    "y_pred = np.empty_like(y)\n",
    "\n",
    "for train_idx, test_idx in kfold.split(X, y):\n",
    "    # build arrays which correspond to x, y train /test\n",
    "    x_test = X[test_idx, :]\n",
    "    x_train = X[train_idx, :]\n",
    "    y_true_train = y[train_idx]\n",
    "    \n",
    "\n",
    "\n",
    "    # fit the classifier (use all available data)\n",
    "    rf_classifier.fit(X, y)\n",
    "\n",
    "    # estimate each review's star\n",
    "    y_pred[test_idx] = rf_classifier.predict(x_test)"
   ]
  },
  {
   "cell_type": "code",
   "execution_count": 101,
   "id": "a1f1d847",
   "metadata": {
    "scrolled": true
   },
   "outputs": [
    {
     "data": {
      "text/plain": [
       "0.43462309542902966"
      ]
     },
     "execution_count": 101,
     "metadata": {},
     "output_type": "execute_result"
    }
   ],
   "source": [
    "# compute accuracy\n",
    "accuracy_score(y_true = y, y_pred = y_pred)"
   ]
  },
  {
   "cell_type": "code",
   "execution_count": null,
   "id": "2a3991c2",
   "metadata": {},
   "outputs": [],
   "source": []
  },
  {
   "cell_type": "markdown",
   "id": "e3e4d312",
   "metadata": {},
   "source": [
    "## Based on HyperParameters Random Forest performed the best with .4346 accuracy"
   ]
  },
  {
   "cell_type": "code",
   "execution_count": null,
   "id": "70a37b64",
   "metadata": {},
   "outputs": [],
   "source": []
  }
 ],
 "metadata": {
  "kernelspec": {
   "display_name": "Python 3 (ipykernel)",
   "language": "python",
   "name": "python3"
  },
  "language_info": {
   "codemirror_mode": {
    "name": "ipython",
    "version": 3
   },
   "file_extension": ".py",
   "mimetype": "text/x-python",
   "name": "python",
   "nbconvert_exporter": "python",
   "pygments_lexer": "ipython3",
   "version": "3.9.12"
  }
 },
 "nbformat": 4,
 "nbformat_minor": 5
}
